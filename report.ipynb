{
 "cells": [
  {
   "cell_type": "markdown",
   "id": "8ea8ec28",
   "metadata": {},
   "source": [
    "## Experiment"
   ]
  },
  {
   "cell_type": "markdown",
   "id": "c8d8a000",
   "metadata": {},
   "source": [
    "## Experiement Design"
   ]
  },
  {
   "cell_type": "markdown",
   "id": "2c673560",
   "metadata": {},
   "source": [
    "### Metric Choice"
   ]
  },
  {
   "cell_type": "markdown",
   "id": "b8616e84",
   "metadata": {},
   "source": [
    "To select appropriate metrics for our experiment. A funnel diagram shown below is useful:\n",
    "\n",
    "View the course overview page\n",
    "\n",
    "              |\n",
    "\n",
    "Click the “Start free trial button”\n",
    "\n",
    "              |\n",
    "\n",
    "Complete checkout\n",
    "\n",
    "              |\n",
    "\n",
    "Remain enrolled past the 14-day boundary"
   ]
  },
  {
   "cell_type": "markdown",
   "id": "7172e66f",
   "metadata": {},
   "source": [
    "Based on the funnel analysis we have the following choice of metrics:\n",
    "\n",
    "#### Invariant metric\n",
    "- Number of cookies: That is, number of unique cookies to view the course overview page. (dmin=3000)\n",
    "- Number of clicks: That is, number of unique cookies to click the \"Start free trial\" button (which happens before the free trial screener is trigger). (dmin=240)\n",
    "- Click-through-probability: That is, number of unique cookies to click the \"Start free trial\" button divided by number of unique cookies to view the course overview page. (dmin=0.01)\n",
    "#### Evaluation metric\n",
    "- Gross conversion: That is, number of user-ids to complete checkout and enroll in the free trial divided by number of unique cookies to click the \"Start free trial\" button. (dmin= 0.01)\n",
    "- Retention: That is, number of user-ids to remain enrolled past the 14-day boundary (and thus make at least one payment) divided by number of user-ids to complete checkout. (dmin=0.01)\n",
    "- Net conversion: That is, number of user-ids to remain enrolled past the 14-day boundary (and thus make at least one payment) divided by the number of unique cookies to click the \"Start free trial\" button. (dmin= 0.0075)"
   ]
  },
  {
   "cell_type": "markdown",
   "id": "20b277aa",
   "metadata": {},
   "source": [
    "For all three evaluation metrics, we expect to see them increase, if the tested change does make a difference."
   ]
  },
  {
   "cell_type": "markdown",
   "id": "cbefcd39",
   "metadata": {},
   "source": [
    "### Measuring Standard Deviation"
   ]
  },
  {
   "cell_type": "markdown",
   "id": "eb6d23f6",
   "metadata": {},
   "source": [
    "Since each of our evaluation metric is a probability, we can assume their sampling distributions follow Binomial distributions. We estimate their standard deviation for a sample size of 5000 cookies by using the given baseline data. "
   ]
  },
  {
   "cell_type": "code",
   "execution_count": 2,
   "id": "bbf5860b",
   "metadata": {},
   "outputs": [],
   "source": [
    "import numpy as np\n",
    "import pandas as pd"
   ]
  },
  {
   "cell_type": "code",
   "execution_count": 3,
   "id": "65e114b2",
   "metadata": {},
   "outputs": [
    {
     "data": {
      "text/html": [
       "<div>\n",
       "<style scoped>\n",
       "    .dataframe tbody tr th:only-of-type {\n",
       "        vertical-align: middle;\n",
       "    }\n",
       "\n",
       "    .dataframe tbody tr th {\n",
       "        vertical-align: top;\n",
       "    }\n",
       "\n",
       "    .dataframe thead th {\n",
       "        text-align: right;\n",
       "    }\n",
       "</style>\n",
       "<table border=\"1\" class=\"dataframe\">\n",
       "  <thead>\n",
       "    <tr style=\"text-align: right;\">\n",
       "      <th></th>\n",
       "      <th>0</th>\n",
       "      <th>1</th>\n",
       "    </tr>\n",
       "  </thead>\n",
       "  <tbody>\n",
       "    <tr>\n",
       "      <th>0</th>\n",
       "      <td>Unique cookies to view course overview page pe...</td>\n",
       "      <td>40000.000000</td>\n",
       "    </tr>\n",
       "    <tr>\n",
       "      <th>1</th>\n",
       "      <td>Unique cookies to click \"Start free trial\" per...</td>\n",
       "      <td>3200.000000</td>\n",
       "    </tr>\n",
       "    <tr>\n",
       "      <th>2</th>\n",
       "      <td>Enrollments per day:</td>\n",
       "      <td>660.000000</td>\n",
       "    </tr>\n",
       "    <tr>\n",
       "      <th>3</th>\n",
       "      <td>Click-through-probability on \"Start free trial\":</td>\n",
       "      <td>0.080000</td>\n",
       "    </tr>\n",
       "    <tr>\n",
       "      <th>4</th>\n",
       "      <td>Probability of enrolling, given click:</td>\n",
       "      <td>0.206250</td>\n",
       "    </tr>\n",
       "    <tr>\n",
       "      <th>5</th>\n",
       "      <td>Probability of payment, given enroll:</td>\n",
       "      <td>0.530000</td>\n",
       "    </tr>\n",
       "    <tr>\n",
       "      <th>6</th>\n",
       "      <td>Probability of payment, given click</td>\n",
       "      <td>0.109313</td>\n",
       "    </tr>\n",
       "  </tbody>\n",
       "</table>\n",
       "</div>"
      ],
      "text/plain": [
       "                                                   0             1\n",
       "0  Unique cookies to view course overview page pe...  40000.000000\n",
       "1  Unique cookies to click \"Start free trial\" per...   3200.000000\n",
       "2                               Enrollments per day:    660.000000\n",
       "3   Click-through-probability on \"Start free trial\":      0.080000\n",
       "4             Probability of enrolling, given click:      0.206250\n",
       "5              Probability of payment, given enroll:      0.530000\n",
       "6                Probability of payment, given click      0.109313"
      ]
     },
     "execution_count": 3,
     "metadata": {},
     "output_type": "execute_result"
    }
   ],
   "source": [
    "baseline = pd.read_csv(\"BaselineValues.csv\", header=None)\n",
    "baseline"
   ]
  },
  {
   "cell_type": "markdown",
   "id": "6623ed41",
   "metadata": {},
   "source": [
    "The standard deviation of a Binomial distribution is given by sqrt(p(1-p)/N). The tricky part is to calculate the correct N for each evalution metric corresponding to 5000 cookies"
   ]
  },
  {
   "cell_type": "code",
   "execution_count": 4,
   "id": "6085dcce",
   "metadata": {},
   "outputs": [],
   "source": [
    "# read the table\n",
    "n = baseline.iloc[0,1]\n",
    "n_click = baseline.iloc[1,1]\n",
    "n_enroll = baseline.iloc[2,1]\n",
    "p_gc = baseline.iloc[4,1]\n",
    "p_rt = baseline.iloc[5,1]\n",
    "p_nc = baseline.iloc[6,1]\n",
    "sample_size = 5000"
   ]
  },
  {
   "cell_type": "code",
   "execution_count": 5,
   "id": "adfa2a88",
   "metadata": {},
   "outputs": [
    {
     "name": "stdout",
     "output_type": "stream",
     "text": [
      "STD of gross conversion probability:  0.0202\n",
      "STD of net conversion probability:  0.0156\n",
      "STD of retention probability:  0.0549\n"
     ]
    }
   ],
   "source": [
    "std_gc = np.sqrt(p_gc*(1-p_gc) / ((n_click/n)*sample_size))\n",
    "std_nc = np.sqrt(p_nc*(1-p_nc) / ((n_click/n)*sample_size))\n",
    "std_rt = np.sqrt(p_rt*(1-p_rt) / ((n_enroll/n)*sample_size))\n",
    "\n",
    "digits = 4\n",
    "print(\"STD of gross conversion probability: \", round(std_gc, digits))\n",
    "print(\"STD of net conversion probability: \", round(std_nc, digits))\n",
    "print(\"STD of retention probability: \", round(std_rt, digits))"
   ]
  },
  {
   "cell_type": "markdown",
   "id": "c0a759b3",
   "metadata": {},
   "source": [
    "Since all of our evaluation metrics are probabilities, it's probably safe to calulate their std analytically. "
   ]
  },
  {
   "cell_type": "markdown",
   "id": "f338a53b",
   "metadata": {},
   "source": [
    "### Sizing"
   ]
  },
  {
   "cell_type": "markdown",
   "id": "a1b2db27",
   "metadata": {},
   "source": [
    "#### Choosing number of samples given power"
   ]
  },
  {
   "cell_type": "code",
   "execution_count": 6,
   "id": "10b3a8eb",
   "metadata": {},
   "outputs": [],
   "source": [
    "from scipy.stats import norm\n",
    "def get_beta(N, alpha, dmin, s0):\n",
    "    std = s0 * np.sqrt(2/N)\n",
    "    z = norm.ppf(1-alpha/2)\n",
    "    beta = norm.cdf(z*std, dmin, std) - norm.cdf(-z*std, dmin, std)\n",
    "    return beta\n",
    "\n",
    "def test_size(alpha, beta, dmin, s0, N0=1):\n",
    "    \"\"\"\n",
    "    alpha:probability of rejecting the null when null is true\n",
    "    beta: probability of accepting the null when null is false\n",
    "    dmin: practical significance boundary\n",
    "    s0: standard deviation when N=1\n",
    "    N0: start searching size\n",
    "    \n",
    "    return: total number of samples required per group\n",
    "    This method is obviously too slow if the required size is very large. Need to use implemented inverse function to solve N faster.\n",
    "    \"\"\"\n",
    "    N = N0\n",
    "    while get_beta(N, alpha, dmin, s0) >beta:\n",
    "        N += 1\n",
    "    return N"
   ]
  },
  {
   "cell_type": "code",
   "execution_count": 7,
   "id": "24c62d04",
   "metadata": {},
   "outputs": [
    {
     "name": "stdout",
     "output_type": "stream",
     "text": [
      "Total number of pageviews needed:  6322181\n"
     ]
    }
   ],
   "source": [
    "# we impose an overall alpha = 0.05 by using the Bonferroni correction\n",
    "alpha = 0.05/3\n",
    "# we require beta = 0.2 for each metric\n",
    "# the result of each metric needs to be converted to the total number of cookies to be collected\n",
    "N_gc = test_size(alpha, 0.2, 0.01, np.sqrt(p_gc*(1-p_gc)), N0=n_click) / (n_click/n)\n",
    "N_nc = test_size(alpha, 0.2, 0.0075, np.sqrt(p_nc*(1-p_nc)), N0=n_click) / (n_click/n)\n",
    "N_rt = test_size(alpha, 0.2, 0.01, np.sqrt(p_rt*(1-p_rt)), N0=n_enroll) / (n_enroll/n)\n",
    "# the max number gives the total number of pageviews required for this experiemtn\n",
    "tot_cookies = int(max(N_gc, N_nc, N_rt)*2)\n",
    "print(\"Total number of pageviews needed: \", tot_cookies)"
   ]
  },
  {
   "cell_type": "code",
   "execution_count": 8,
   "id": "faf411cd",
   "metadata": {},
   "outputs": [],
   "source": [
    "def analytical_size(alpha, beta, dmin, s0):\n",
    "    nomin = 2*(norm.ppf(1-alpha/2)+norm.ppf(1-beta))**2\n",
    "    denom = (dmin/s0)**2\n",
    "    return nomin/denom # per group"
   ]
  },
  {
   "cell_type": "markdown",
   "id": "4429d993",
   "metadata": {},
   "source": [
    "Since the change most likey will affect the number of enrollments and thus the amount of payments, there is definite business\n",
    "risk so that we shouldn't run the experiement on all traffic. We also do not want the experiment to run for too long, but we need at least 14 days to measure net conversion and retention rate. So maybe max duration equals to 30days is constraint."
   ]
  },
  {
   "cell_type": "code",
   "execution_count": 9,
   "id": "a82554df",
   "metadata": {},
   "outputs": [
    {
     "name": "stdout",
     "output_type": "stream",
     "text": [
      "Maximum number of total cookies can be collected in 30 days:  1200000.0\n"
     ]
    }
   ],
   "source": [
    "max_days = 30\n",
    "max_cookies = max_days * n\n",
    "print(\"Maximum number of total cookies can be collected in 30 days: \", max_cookies)"
   ]
  },
  {
   "cell_type": "code",
   "execution_count": 10,
   "id": "1c01773e",
   "metadata": {},
   "outputs": [
    {
     "name": "stdout",
     "output_type": "stream",
     "text": [
      "856975.0 906075.0 6322181.818181817\n"
     ]
    }
   ],
   "source": [
    "# now if we look at the number of cookies required for each metric\n",
    "print(2*N_gc, 2*N_nc, 2*N_rt)"
   ]
  },
  {
   "cell_type": "markdown",
   "id": "c47a7513",
   "metadata": {},
   "source": [
    "Even we run the experiment with 100% traffic for a month, the samples wouldn't be enough for testing the change of retention rate. So let's try relax imposing overall alpha = 0.05 and increasing the practical significance for retention. "
   ]
  },
  {
   "cell_type": "code",
   "execution_count": 11,
   "id": "7e44ccdf",
   "metadata": {},
   "outputs": [
    {
     "name": "stdout",
     "output_type": "stream",
     "text": [
      "642475.0 382100.0 4739878.787878788\n"
     ]
    }
   ],
   "source": [
    "alpha = 0.05\n",
    "# we require beta = 0.2 for each metric\n",
    "# the result of each metric needs to be converted to the total number of cookies to be collected\n",
    "N_gc = test_size(alpha, 0.2, 0.01, np.sqrt(p_gc*(1-p_gc)), N0=n_click) / (n_click/n)\n",
    "N_nc = test_size(alpha, 0.2, 0.01, np.sqrt(p_nc*(1-p_nc)), N0=n_click) / (n_click/n)\n",
    "N_rt = test_size(alpha, 0.2, 0.01, np.sqrt(p_rt*(1-p_rt)), N0=n_enroll) / (n_enroll/n)\n",
    "print(2*N_gc,2*N_nc,2*N_rt)"
   ]
  },
  {
   "cell_type": "markdown",
   "id": "a33d7cb8",
   "metadata": {},
   "source": [
    "It's still not enough for the rentation rate. One option is to remove this metric. Since rentation and net conversation rate are quite similar to each other, I think this is acceptable. "
   ]
  },
  {
   "cell_type": "code",
   "execution_count": 12,
   "id": "85b87997",
   "metadata": {},
   "outputs": [
    {
     "name": "stdout",
     "output_type": "stream",
     "text": [
      "0.5353958333333333\n"
     ]
    }
   ],
   "source": [
    "# if we remove retention metric, the percentage traffic we need to run the experiment is \n",
    "print(2*max(N_gc, N_nc) / max_cookies)"
   ]
  },
  {
   "cell_type": "markdown",
   "id": "08c98a9d",
   "metadata": {},
   "source": [
    "## Experiement Analysis"
   ]
  },
  {
   "cell_type": "markdown",
   "id": "74d7844d",
   "metadata": {},
   "source": [
    "### Sanity check"
   ]
  },
  {
   "cell_type": "code",
   "execution_count": 13,
   "id": "07485b5c",
   "metadata": {},
   "outputs": [],
   "source": [
    "data_control = pd.read_csv(\"results_control.csv\")\n",
    "data_exp = pd.read_csv(\"results_experiment.csv\")"
   ]
  },
  {
   "cell_type": "code",
   "execution_count": 25,
   "id": "2df38905",
   "metadata": {},
   "outputs": [
    {
     "data": {
      "text/html": [
       "<div>\n",
       "<style scoped>\n",
       "    .dataframe tbody tr th:only-of-type {\n",
       "        vertical-align: middle;\n",
       "    }\n",
       "\n",
       "    .dataframe tbody tr th {\n",
       "        vertical-align: top;\n",
       "    }\n",
       "\n",
       "    .dataframe thead th {\n",
       "        text-align: right;\n",
       "    }\n",
       "</style>\n",
       "<table border=\"1\" class=\"dataframe\">\n",
       "  <thead>\n",
       "    <tr style=\"text-align: right;\">\n",
       "      <th></th>\n",
       "      <th>Date</th>\n",
       "      <th>Pageviews</th>\n",
       "      <th>Clicks</th>\n",
       "      <th>Enrollments</th>\n",
       "      <th>Payments</th>\n",
       "    </tr>\n",
       "  </thead>\n",
       "  <tbody>\n",
       "    <tr>\n",
       "      <th>32</th>\n",
       "      <td>Wed, Nov 12</td>\n",
       "      <td>10134</td>\n",
       "      <td>801</td>\n",
       "      <td>NaN</td>\n",
       "      <td>NaN</td>\n",
       "    </tr>\n",
       "    <tr>\n",
       "      <th>33</th>\n",
       "      <td>Thu, Nov 13</td>\n",
       "      <td>9717</td>\n",
       "      <td>814</td>\n",
       "      <td>NaN</td>\n",
       "      <td>NaN</td>\n",
       "    </tr>\n",
       "    <tr>\n",
       "      <th>34</th>\n",
       "      <td>Fri, Nov 14</td>\n",
       "      <td>9192</td>\n",
       "      <td>735</td>\n",
       "      <td>NaN</td>\n",
       "      <td>NaN</td>\n",
       "    </tr>\n",
       "    <tr>\n",
       "      <th>35</th>\n",
       "      <td>Sat, Nov 15</td>\n",
       "      <td>8630</td>\n",
       "      <td>743</td>\n",
       "      <td>NaN</td>\n",
       "      <td>NaN</td>\n",
       "    </tr>\n",
       "    <tr>\n",
       "      <th>36</th>\n",
       "      <td>Sun, Nov 16</td>\n",
       "      <td>8970</td>\n",
       "      <td>722</td>\n",
       "      <td>NaN</td>\n",
       "      <td>NaN</td>\n",
       "    </tr>\n",
       "  </tbody>\n",
       "</table>\n",
       "</div>"
      ],
      "text/plain": [
       "           Date  Pageviews  Clicks  Enrollments  Payments\n",
       "32  Wed, Nov 12      10134     801          NaN       NaN\n",
       "33  Thu, Nov 13       9717     814          NaN       NaN\n",
       "34  Fri, Nov 14       9192     735          NaN       NaN\n",
       "35  Sat, Nov 15       8630     743          NaN       NaN\n",
       "36  Sun, Nov 16       8970     722          NaN       NaN"
      ]
     },
     "execution_count": 25,
     "metadata": {},
     "output_type": "execute_result"
    }
   ],
   "source": [
    "# we want to merge the data together, so let's add labels for each row\n",
    "data_control.head()\n",
    "data_control.tail()"
   ]
  },
  {
   "cell_type": "code",
   "execution_count": 15,
   "id": "1b8f7a5d",
   "metadata": {},
   "outputs": [
    {
     "data": {
      "text/html": [
       "<div>\n",
       "<style scoped>\n",
       "    .dataframe tbody tr th:only-of-type {\n",
       "        vertical-align: middle;\n",
       "    }\n",
       "\n",
       "    .dataframe tbody tr th {\n",
       "        vertical-align: top;\n",
       "    }\n",
       "\n",
       "    .dataframe thead th {\n",
       "        text-align: right;\n",
       "    }\n",
       "</style>\n",
       "<table border=\"1\" class=\"dataframe\">\n",
       "  <thead>\n",
       "    <tr style=\"text-align: right;\">\n",
       "      <th></th>\n",
       "      <th>Date</th>\n",
       "      <th>Pageviews</th>\n",
       "      <th>Clicks</th>\n",
       "      <th>Enrollments</th>\n",
       "      <th>Payments</th>\n",
       "    </tr>\n",
       "  </thead>\n",
       "  <tbody>\n",
       "    <tr>\n",
       "      <th>0</th>\n",
       "      <td>Sat, Oct 11</td>\n",
       "      <td>7716</td>\n",
       "      <td>686</td>\n",
       "      <td>105.0</td>\n",
       "      <td>34.0</td>\n",
       "    </tr>\n",
       "    <tr>\n",
       "      <th>1</th>\n",
       "      <td>Sun, Oct 12</td>\n",
       "      <td>9288</td>\n",
       "      <td>785</td>\n",
       "      <td>116.0</td>\n",
       "      <td>91.0</td>\n",
       "    </tr>\n",
       "    <tr>\n",
       "      <th>2</th>\n",
       "      <td>Mon, Oct 13</td>\n",
       "      <td>10480</td>\n",
       "      <td>884</td>\n",
       "      <td>145.0</td>\n",
       "      <td>79.0</td>\n",
       "    </tr>\n",
       "    <tr>\n",
       "      <th>3</th>\n",
       "      <td>Tue, Oct 14</td>\n",
       "      <td>9867</td>\n",
       "      <td>827</td>\n",
       "      <td>138.0</td>\n",
       "      <td>92.0</td>\n",
       "    </tr>\n",
       "    <tr>\n",
       "      <th>4</th>\n",
       "      <td>Wed, Oct 15</td>\n",
       "      <td>9793</td>\n",
       "      <td>832</td>\n",
       "      <td>140.0</td>\n",
       "      <td>94.0</td>\n",
       "    </tr>\n",
       "  </tbody>\n",
       "</table>\n",
       "</div>"
      ],
      "text/plain": [
       "          Date  Pageviews  Clicks  Enrollments  Payments\n",
       "0  Sat, Oct 11       7716     686        105.0      34.0\n",
       "1  Sun, Oct 12       9288     785        116.0      91.0\n",
       "2  Mon, Oct 13      10480     884        145.0      79.0\n",
       "3  Tue, Oct 14       9867     827        138.0      92.0\n",
       "4  Wed, Oct 15       9793     832        140.0      94.0"
      ]
     },
     "execution_count": 15,
     "metadata": {},
     "output_type": "execute_result"
    }
   ],
   "source": [
    "data_exp.head()"
   ]
  },
  {
   "cell_type": "markdown",
   "id": "541652ea",
   "metadata": {},
   "source": [
    "When the metric is a simple count, which should be randomly distributed to either the control or the experiment group, the sample mean should follow normal distribution. If the test of null hypothesis that the distribution is random is not significant, then the sanity check is passed. "
   ]
  },
  {
   "cell_type": "code",
   "execution_count": 16,
   "id": "84fe502a",
   "metadata": {},
   "outputs": [
    {
     "name": "stdout",
     "output_type": "stream",
     "text": [
      "Invariant metric Pageviews passed the sanity test!\n",
      "Invariant metric Clicks passed the sanity test!\n"
     ]
    }
   ],
   "source": [
    "def sanity_test(metric_name, alpha = 0.05):\n",
    "    tot_control = data_control[metric_name].sum()\n",
    "    tot_exp = data_exp[metric_name].sum()\n",
    "    fraction = tot_control / (tot_control + tot_exp)\n",
    "    std = np.sqrt(0.5**2/(tot_control+tot_exp))\n",
    "    p = 1- norm.cdf(fraction, 0.5, std)\n",
    "    \n",
    "    if p < alpha:\n",
    "        print(\"Invariant metric \" + metric_name + \" failed to pass the sanity test!\")\n",
    "    else:\n",
    "        print(\"Invariant metric \" + metric_name + \" passed the sanity test!\")\n",
    "        \n",
    "sanity_test(\"Pageviews\")\n",
    "sanity_test(\"Clicks\")"
   ]
  },
  {
   "cell_type": "markdown",
   "id": "758c562c",
   "metadata": {},
   "source": [
    "Click through probability"
   ]
  },
  {
   "cell_type": "code",
   "execution_count": 20,
   "id": "ced563a2",
   "metadata": {},
   "outputs": [
    {
     "name": "stdout",
     "output_type": "stream",
     "text": [
      "Invariant metric Click-through-probability passed the sanity test!\n"
     ]
    }
   ],
   "source": [
    "p_control = data_control[\"Clicks\"].sum() / data_control[\"Pageviews\"].sum() \n",
    "p_exp =  data_exp[\"Clicks\"].sum() / data_exp[\"Pageviews\"].sum() \n",
    "dif = p_exp - p_control\n",
    "p_pop = (data_control[\"Clicks\"].sum() + data_exp[\"Clicks\"].sum()) / (data_control[\"Pageviews\"].sum() + data_exp[\"Pageviews\"].sum() )\n",
    "std = np.sqrt(p_pop*(1-p_pop)*(1/data_exp[\"Pageviews\"].sum() + 1/data_control[\"Pageviews\"].sum()))\n",
    "alpha = 0.05\n",
    "p = 1- norm.cdf(dif, 0.5, std)\n",
    "if p < alpha:\n",
    "    print(\"Invariant metric Click-through-probability failed to pass the sanity test!\")\n",
    "else:\n",
    "    print(\"Invariant metric Click-through-probability passed the sanity test!\")"
   ]
  },
  {
   "cell_type": "markdown",
   "id": "4273cb9b",
   "metadata": {},
   "source": [
    "### Practical and Statistical Significance"
   ]
  },
  {
   "cell_type": "markdown",
   "id": "c2017019",
   "metadata": {},
   "source": [
    "Since the three (or two) evaluation metrics I choose most likely will be positively correlated, the Bonferroni correction might be too conservative. So each evaluation metric, I compute a 95% confidence interval around the difference between two groups.  A metric is statistically significant if the confidence interval does not include 0 and it is practically significant if the confidence interval does not include the practical significance boundary."
   ]
  },
  {
   "cell_type": "markdown",
   "id": "0c0ee7c2",
   "metadata": {},
   "source": [
    "Since some data for enrollment and payments are missing, we remove rows with NA values."
   ]
  },
  {
   "cell_type": "code",
   "execution_count": 26,
   "id": "3ea8368d",
   "metadata": {},
   "outputs": [],
   "source": [
    "data_control.dropna(inplace=True)\n",
    "data_exp.dropna(inplace=True)"
   ]
  },
  {
   "cell_type": "code",
   "execution_count": 43,
   "id": "aedb7065",
   "metadata": {},
   "outputs": [],
   "source": [
    "def test(metric_name, nom, denom, alpha=0.05, d_min=0.01):\n",
    "    p_control = data_control[nom].sum() / data_control[denom].sum() \n",
    "    p_exp =  data_exp[nom].sum() / data_exp[denom].sum() \n",
    "    dif = p_exp - p_control\n",
    "    p_pop = (data_control[nom].sum() + data_exp[nom].sum()) / (data_control[denom].sum() + data_exp[denom].sum() )\n",
    "    std = np.sqrt(p_pop*(1-p_pop)*(1/data_exp[denom].sum() + 1/data_control[denom].sum()))    \n",
    "    z = norm.ppf(1-alpha/2)\n",
    "    CI = [dif - z*std, dif + z*std]\n",
    "    print(\"---\"+ metric_name +\"---\")\n",
    "    print(\"Significant level: \", alpha)\n",
    "    print(\"Practical significance boundary: \", d_min)\n",
    "    print(\"Oberved difference \", dif)\n",
    "    print(\"Confidence inveral \", CI)\n",
    "    if (0<CI[0] or 0>CI[1]):\n",
    "        print(\"This metric is statistical significant.\")\n",
    "    else:\n",
    "        print(\"This metric is NOT statistical significant.\")\n",
    "    if (d_min<CI[0] or -d_min>CI[1]):\n",
    "        print(\"This metric is practically significant.\")\n",
    "    else:\n",
    "        print(\"This metric is NOT practically significant.\")    "
   ]
  },
  {
   "cell_type": "code",
   "execution_count": 44,
   "id": "1ace9cd6",
   "metadata": {},
   "outputs": [
    {
     "name": "stdout",
     "output_type": "stream",
     "text": [
      "---Gross Conversation Rate---\n",
      "Significant level:  0.05\n",
      "Practical significance boundary:  0.01\n",
      "Oberved difference  -0.020554874580361565\n",
      "Confidence inveral  [-0.02912320088750467, -0.011986548273218463]\n",
      "This metric is statistical significant.\n",
      "This metric is practically significant.\n"
     ]
    }
   ],
   "source": [
    "test(\"Gross Conversation Rate\", \"Enrollments\", \"Clicks\")"
   ]
  },
  {
   "cell_type": "code",
   "execution_count": 45,
   "id": "1153ea59",
   "metadata": {},
   "outputs": [
    {
     "name": "stdout",
     "output_type": "stream",
     "text": [
      "---Net Conversation Rate---\n",
      "Significant level:  0.05\n",
      "Practical significance boundary:  0.075\n",
      "Oberved difference  -0.0048737226745441675\n",
      "Confidence inveral  [-0.011604500677993734, 0.0018570553289053993]\n",
      "This metric is NOT statistical significant.\n",
      "This metric is NOT practically significant.\n"
     ]
    }
   ],
   "source": [
    "test(\"Net Conversation Rate\", \"Payments\", \"Clicks\", d_min=0.075)"
   ]
  },
  {
   "cell_type": "code",
   "execution_count": 47,
   "id": "0632ae05",
   "metadata": {},
   "outputs": [
    {
     "name": "stdout",
     "output_type": "stream",
     "text": [
      "---Retention Rate---\n",
      "Significant level:  0.05\n",
      "Practical significance boundary:  0.01\n",
      "Oberved difference  0.031094804707142765\n",
      "Confidence inveral  [0.008104858181445022, 0.05408475123284051]\n",
      "This metric is statistical significant.\n",
      "This metric is NOT practically significant.\n"
     ]
    }
   ],
   "source": [
    "test(\"Retention Rate\", \"Payments\", \"Enrollments\")"
   ]
  },
  {
   "cell_type": "markdown",
   "id": "cd83ca5e",
   "metadata": {},
   "source": [
    "### Sign test\n",
    "\n",
    "Let's run a sign test for our evaluation metrics. It can help to further boost our confidence in our statistical test, if the two tests results agree with each other. If not, sign test can help us to discover hidden segement pattern of our experiement results. "
   ]
  },
  {
   "cell_type": "code",
   "execution_count": 55,
   "id": "e3692df6",
   "metadata": {},
   "outputs": [],
   "source": [
    "# let's first calcualte Gross conversion rate and Retention rate for each day for each group\n",
    "data_control[\"gcr_c\"] = data_control[\"Enrollments\"] / data_control[\"Clicks\"]\n",
    "data_exp[\"gcr_e\"] = data_exp[\"Enrollments\"] / data_exp[\"Clicks\"]\n",
    "data_control[\"rtr_c\"] = data_control[\"Payments\"] / data_control[\"Enrollments\"]\n",
    "data_exp[\"rtr_e\"] = data_exp[\"Payments\"] / data_exp[\"Enrollments\"]"
   ]
  },
  {
   "cell_type": "code",
   "execution_count": 59,
   "id": "f951efb0",
   "metadata": {},
   "outputs": [
    {
     "data": {
      "text/html": [
       "<div>\n",
       "<style scoped>\n",
       "    .dataframe tbody tr th:only-of-type {\n",
       "        vertical-align: middle;\n",
       "    }\n",
       "\n",
       "    .dataframe tbody tr th {\n",
       "        vertical-align: top;\n",
       "    }\n",
       "\n",
       "    .dataframe thead th {\n",
       "        text-align: right;\n",
       "    }\n",
       "</style>\n",
       "<table border=\"1\" class=\"dataframe\">\n",
       "  <thead>\n",
       "    <tr style=\"text-align: right;\">\n",
       "      <th></th>\n",
       "      <th>Date</th>\n",
       "      <th>gcr_c</th>\n",
       "      <th>rtr_c</th>\n",
       "      <th>gcr_e</th>\n",
       "      <th>rtr_e</th>\n",
       "    </tr>\n",
       "  </thead>\n",
       "  <tbody>\n",
       "    <tr>\n",
       "      <th>0</th>\n",
       "      <td>Sat, Oct 11</td>\n",
       "      <td>0.195051</td>\n",
       "      <td>0.522388</td>\n",
       "      <td>0.153061</td>\n",
       "      <td>0.323810</td>\n",
       "    </tr>\n",
       "    <tr>\n",
       "      <th>1</th>\n",
       "      <td>Sun, Oct 12</td>\n",
       "      <td>0.188703</td>\n",
       "      <td>0.476190</td>\n",
       "      <td>0.147771</td>\n",
       "      <td>0.784483</td>\n",
       "    </tr>\n",
       "    <tr>\n",
       "      <th>2</th>\n",
       "      <td>Mon, Oct 13</td>\n",
       "      <td>0.183718</td>\n",
       "      <td>0.568862</td>\n",
       "      <td>0.164027</td>\n",
       "      <td>0.544828</td>\n",
       "    </tr>\n",
       "    <tr>\n",
       "      <th>3</th>\n",
       "      <td>Tue, Oct 14</td>\n",
       "      <td>0.186603</td>\n",
       "      <td>0.673077</td>\n",
       "      <td>0.166868</td>\n",
       "      <td>0.666667</td>\n",
       "    </tr>\n",
       "    <tr>\n",
       "      <th>4</th>\n",
       "      <td>Wed, Oct 15</td>\n",
       "      <td>0.194743</td>\n",
       "      <td>0.392638</td>\n",
       "      <td>0.168269</td>\n",
       "      <td>0.671429</td>\n",
       "    </tr>\n",
       "  </tbody>\n",
       "</table>\n",
       "</div>"
      ],
      "text/plain": [
       "          Date     gcr_c     rtr_c     gcr_e     rtr_e\n",
       "0  Sat, Oct 11  0.195051  0.522388  0.153061  0.323810\n",
       "1  Sun, Oct 12  0.188703  0.476190  0.147771  0.784483\n",
       "2  Mon, Oct 13  0.183718  0.568862  0.164027  0.544828\n",
       "3  Tue, Oct 14  0.186603  0.673077  0.166868  0.666667\n",
       "4  Wed, Oct 15  0.194743  0.392638  0.168269  0.671429"
      ]
     },
     "execution_count": 59,
     "metadata": {},
     "output_type": "execute_result"
    }
   ],
   "source": [
    "df_merge = data_control.merge(data_exp, on=\"Date\")[[\"Date\", \"gcr_c\", \"rtr_c\", \"gcr_e\", \"rtr_e\"]]\n",
    "df_merge.head()"
   ]
  },
  {
   "cell_type": "code",
   "execution_count": 77,
   "id": "c048383a",
   "metadata": {},
   "outputs": [],
   "source": [
    "from scipy.stats import binom\n",
    "def pv_binom(n, N, p=0.5, alpha=0.05):\n",
    "    cdf = binom.cdf(n, N, 0.5)\n",
    "    if cdf > 0.5:\n",
    "        pv = 1-cdf\n",
    "    else:\n",
    "        pv = cdf\n",
    "    print(\"p-value \", pv)\n",
    "    if pv < alpha/2:\n",
    "        print(\"The metric passed the sign test!\")\n",
    "    else:\n",
    "        print(\"The metric FAILED the sign test!\") \n"
   ]
  },
  {
   "cell_type": "code",
   "execution_count": 78,
   "id": "ab5ae042",
   "metadata": {},
   "outputs": [
    {
     "name": "stdout",
     "output_type": "stream",
     "text": [
      "p-value  0.000244140625\n",
      "The metric passed the sign test!\n"
     ]
    }
   ],
   "source": [
    "# Gross conversition rate\n",
    "N = len(df_merge)\n",
    "n_gc = df_merge[df_merge[\"gcr_c\"]>df_merge[\"gcr_e\"]][\"Date\"].count()\n",
    "pv_binom(n_gc, N)"
   ]
  },
  {
   "cell_type": "code",
   "execution_count": 79,
   "id": "6e278dc7",
   "metadata": {},
   "outputs": [
    {
     "name": "stdout",
     "output_type": "stream",
     "text": [
      "p-value  0.3388197422027588\n",
      "The metric FAILED the sign test!\n"
     ]
    }
   ],
   "source": [
    "# retention rate\n",
    "n_rtr = df_merge[df_merge[\"rtr_c\"]>df_merge[\"rtr_e\"]][\"Date\"].count()\n",
    "pv_binom(n_rtr, N)"
   ]
  },
  {
   "cell_type": "markdown",
   "id": "00cf7ad1",
   "metadata": {},
   "source": [
    "To see why retention rate failed the sign test but passed the stats test, let's study its behaviour for different days."
   ]
  },
  {
   "cell_type": "code",
   "execution_count": 80,
   "id": "2df7bfcd",
   "metadata": {},
   "outputs": [
    {
     "data": {
      "text/html": [
       "<div>\n",
       "<style scoped>\n",
       "    .dataframe tbody tr th:only-of-type {\n",
       "        vertical-align: middle;\n",
       "    }\n",
       "\n",
       "    .dataframe tbody tr th {\n",
       "        vertical-align: top;\n",
       "    }\n",
       "\n",
       "    .dataframe thead th {\n",
       "        text-align: right;\n",
       "    }\n",
       "</style>\n",
       "<table border=\"1\" class=\"dataframe\">\n",
       "  <thead>\n",
       "    <tr style=\"text-align: right;\">\n",
       "      <th></th>\n",
       "      <th>Date</th>\n",
       "      <th>gcr_c</th>\n",
       "      <th>rtr_c</th>\n",
       "      <th>gcr_e</th>\n",
       "      <th>rtr_e</th>\n",
       "    </tr>\n",
       "  </thead>\n",
       "  <tbody>\n",
       "    <tr>\n",
       "      <th>0</th>\n",
       "      <td>Sat</td>\n",
       "      <td>0.195051</td>\n",
       "      <td>0.522388</td>\n",
       "      <td>0.153061</td>\n",
       "      <td>0.323810</td>\n",
       "    </tr>\n",
       "    <tr>\n",
       "      <th>1</th>\n",
       "      <td>Sun</td>\n",
       "      <td>0.188703</td>\n",
       "      <td>0.476190</td>\n",
       "      <td>0.147771</td>\n",
       "      <td>0.784483</td>\n",
       "    </tr>\n",
       "    <tr>\n",
       "      <th>2</th>\n",
       "      <td>Mon</td>\n",
       "      <td>0.183718</td>\n",
       "      <td>0.568862</td>\n",
       "      <td>0.164027</td>\n",
       "      <td>0.544828</td>\n",
       "    </tr>\n",
       "    <tr>\n",
       "      <th>3</th>\n",
       "      <td>Tue</td>\n",
       "      <td>0.186603</td>\n",
       "      <td>0.673077</td>\n",
       "      <td>0.166868</td>\n",
       "      <td>0.666667</td>\n",
       "    </tr>\n",
       "    <tr>\n",
       "      <th>4</th>\n",
       "      <td>Wed</td>\n",
       "      <td>0.194743</td>\n",
       "      <td>0.392638</td>\n",
       "      <td>0.168269</td>\n",
       "      <td>0.671429</td>\n",
       "    </tr>\n",
       "  </tbody>\n",
       "</table>\n",
       "</div>"
      ],
      "text/plain": [
       "  Date     gcr_c     rtr_c     gcr_e     rtr_e\n",
       "0  Sat  0.195051  0.522388  0.153061  0.323810\n",
       "1  Sun  0.188703  0.476190  0.147771  0.784483\n",
       "2  Mon  0.183718  0.568862  0.164027  0.544828\n",
       "3  Tue  0.186603  0.673077  0.166868  0.666667\n",
       "4  Wed  0.194743  0.392638  0.168269  0.671429"
      ]
     },
     "execution_count": 80,
     "metadata": {},
     "output_type": "execute_result"
    }
   ],
   "source": [
    "df_merge[\"Date\"] = df_merge.Date.str.split(',').str[0]\n",
    "df_merge.head()"
   ]
  },
  {
   "cell_type": "code",
   "execution_count": 84,
   "id": "68833fe2",
   "metadata": {},
   "outputs": [
    {
     "data": {
      "text/plain": [
       "Date\n",
       "Fri    0.333333\n",
       "Mon    0.666667\n",
       "Sat    0.500000\n",
       "Sun    1.000000\n",
       "Thu    0.333333\n",
       "Tue    0.333333\n",
       "Wed    0.666667\n",
       "Name: rtr_e>rtr_c, dtype: float64"
      ]
     },
     "execution_count": 84,
     "metadata": {},
     "output_type": "execute_result"
    }
   ],
   "source": [
    "df_merge[\"rtr_e>rtr_c\"] = df_merge[\"rtr_e\"] > df_merge[\"rtr_c\"]\n",
    "df_merge.groupby(\"Date\")[\"rtr_e>rtr_c\"].aggregate(\"mean\")"
   ]
  },
  {
   "cell_type": "markdown",
   "id": "07a605e7",
   "metadata": {},
   "source": [
    "### Make a recomendation\n",
    "In summary, we start with three evaluation metrics. We decided to drop one because it requires either impractical amount time or too much traffic to collect enough data to reach required test power. For the leftover metrics, Gross conversion rate change is significant both statistically and practically, while Retention rate change is not significant practically. Therefore, I won't recommend launch this experiment for now. I suggest to dig deeper on the daily pattern of the retention rate change and try to understand why the change only affect vistors on certain days of each week.  "
   ]
  },
  {
   "cell_type": "markdown",
   "id": "efdcf969",
   "metadata": {},
   "source": [
    "## Follow up experiment"
   ]
  },
  {
   "cell_type": "code",
   "execution_count": null,
   "id": "99bca974",
   "metadata": {},
   "outputs": [],
   "source": []
  }
 ],
 "metadata": {
  "kernelspec": {
   "display_name": "Python 3 (ipykernel)",
   "language": "python",
   "name": "python3"
  },
  "language_info": {
   "codemirror_mode": {
    "name": "ipython",
    "version": 3
   },
   "file_extension": ".py",
   "mimetype": "text/x-python",
   "name": "python",
   "nbconvert_exporter": "python",
   "pygments_lexer": "ipython3",
   "version": "3.11.4"
  }
 },
 "nbformat": 4,
 "nbformat_minor": 5
}
