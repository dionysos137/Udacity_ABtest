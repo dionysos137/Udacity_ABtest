{
 "cells": [
  {
   "cell_type": "markdown",
   "id": "f51f780a",
   "metadata": {},
   "source": [
    "## Experiment"
   ]
  },
  {
   "cell_type": "markdown",
   "id": "99cd684f",
   "metadata": {},
   "source": [
    "## Experiement Design"
   ]
  },
  {
   "cell_type": "markdown",
   "id": "a420fa6c",
   "metadata": {},
   "source": [
    "### Metric Choice"
   ]
  },
  {
   "cell_type": "markdown",
   "id": "a29c5f13",
   "metadata": {},
   "source": [
    "To select appropriate metrics for our experiment. A funnel diagram shown below is useful:\n",
    "\n",
    "View the course overview page\n",
    "\n",
    "              |\n",
    "\n",
    "Click the “Start free trial button”\n",
    "\n",
    "              |\n",
    "\n",
    "Complete checkout\n",
    "\n",
    "              |\n",
    "\n",
    "Remain enrolled past the 14-day boundary"
   ]
  },
  {
   "cell_type": "markdown",
   "id": "618a031b",
   "metadata": {},
   "source": [
    "Based on the funnel analysis we have the following choice of metrics:\n",
    "\n",
    "#### Invariant metric\n",
    "- Number of cookies: That is, number of unique cookies to view the course overview page. (dmin=3000)\n",
    "- Number of clicks: That is, number of unique cookies to click the \"Start free trial\" button (which happens before the free trial screener is trigger). (dmin=240)\n",
    "- Click-through-probability: That is, number of unique cookies to click the \"Start free trial\" button divided by number of unique cookies to view the course overview page. (dmin=0.01)\n",
    "#### Evaluation metric\n",
    "- Gross conversion: That is, number of user-ids to complete checkout and enroll in the free trial divided by number of unique cookies to click the \"Start free trial\" button. (dmin= 0.01)\n",
    "- Retention: That is, number of user-ids to remain enrolled past the 14-day boundary (and thus make at least one payment) divided by number of user-ids to complete checkout. (dmin=0.01)\n",
    "- Net conversion: That is, number of user-ids to remain enrolled past the 14-day boundary (and thus make at least one payment) divided by the number of unique cookies to click the \"Start free trial\" button. (dmin= 0.0075)"
   ]
  },
  {
   "cell_type": "markdown",
   "id": "049aef7a",
   "metadata": {},
   "source": [
    "For all three evaluation metrics, we expect to see them increase, if the tested change does make a difference."
   ]
  },
  {
   "cell_type": "markdown",
   "id": "e693138c",
   "metadata": {},
   "source": [
    "### Measuring Standard Deviation"
   ]
  },
  {
   "cell_type": "markdown",
   "id": "d8bd0fc8",
   "metadata": {},
   "source": [
    "Since each of our evaluation metric is a probability, we can assume their sampling distributions follow Binomial distributions. We estimate their standard deviation for a sample size of 5000 cookies by using the given baseline data. "
   ]
  },
  {
   "cell_type": "code",
   "execution_count": 1,
   "id": "7512f3c1",
   "metadata": {},
   "outputs": [],
   "source": [
    "import numpy as np\n",
    "import pandas as pd"
   ]
  },
  {
   "cell_type": "code",
   "execution_count": 3,
   "id": "330a508f",
   "metadata": {},
   "outputs": [
    {
     "data": {
      "text/html": [
       "<div>\n",
       "<style scoped>\n",
       "    .dataframe tbody tr th:only-of-type {\n",
       "        vertical-align: middle;\n",
       "    }\n",
       "\n",
       "    .dataframe tbody tr th {\n",
       "        vertical-align: top;\n",
       "    }\n",
       "\n",
       "    .dataframe thead th {\n",
       "        text-align: right;\n",
       "    }\n",
       "</style>\n",
       "<table border=\"1\" class=\"dataframe\">\n",
       "  <thead>\n",
       "    <tr style=\"text-align: right;\">\n",
       "      <th></th>\n",
       "      <th>0</th>\n",
       "      <th>1</th>\n",
       "    </tr>\n",
       "  </thead>\n",
       "  <tbody>\n",
       "    <tr>\n",
       "      <th>0</th>\n",
       "      <td>Unique cookies to view course overview page pe...</td>\n",
       "      <td>40000.000000</td>\n",
       "    </tr>\n",
       "    <tr>\n",
       "      <th>1</th>\n",
       "      <td>Unique cookies to click \"Start free trial\" per...</td>\n",
       "      <td>3200.000000</td>\n",
       "    </tr>\n",
       "    <tr>\n",
       "      <th>2</th>\n",
       "      <td>Enrollments per day:</td>\n",
       "      <td>660.000000</td>\n",
       "    </tr>\n",
       "    <tr>\n",
       "      <th>3</th>\n",
       "      <td>Click-through-probability on \"Start free trial\":</td>\n",
       "      <td>0.080000</td>\n",
       "    </tr>\n",
       "    <tr>\n",
       "      <th>4</th>\n",
       "      <td>Probability of enrolling, given click:</td>\n",
       "      <td>0.206250</td>\n",
       "    </tr>\n",
       "    <tr>\n",
       "      <th>5</th>\n",
       "      <td>Probability of payment, given enroll:</td>\n",
       "      <td>0.530000</td>\n",
       "    </tr>\n",
       "    <tr>\n",
       "      <th>6</th>\n",
       "      <td>Probability of payment, given click</td>\n",
       "      <td>0.109313</td>\n",
       "    </tr>\n",
       "  </tbody>\n",
       "</table>\n",
       "</div>"
      ],
      "text/plain": [
       "                                                   0             1\n",
       "0  Unique cookies to view course overview page pe...  40000.000000\n",
       "1  Unique cookies to click \"Start free trial\" per...   3200.000000\n",
       "2                               Enrollments per day:    660.000000\n",
       "3   Click-through-probability on \"Start free trial\":      0.080000\n",
       "4             Probability of enrolling, given click:      0.206250\n",
       "5              Probability of payment, given enroll:      0.530000\n",
       "6                Probability of payment, given click      0.109313"
      ]
     },
     "execution_count": 3,
     "metadata": {},
     "output_type": "execute_result"
    }
   ],
   "source": [
    "baseline = pd.read_csv(\"BaselineValues.csv\", header=None)\n",
    "baseline"
   ]
  },
  {
   "cell_type": "markdown",
   "id": "492a1694",
   "metadata": {},
   "source": [
    "The standard deviation of a Binomial distribution is given by sqrt(p(1-p)/N). The tricky part is to calculate the correct N for each evalution metric corresponding to 5000 cookies"
   ]
  },
  {
   "cell_type": "code",
   "execution_count": 10,
   "id": "15b42330",
   "metadata": {},
   "outputs": [],
   "source": [
    "# read the table\n",
    "n = baseline.iloc[0,1]\n",
    "n_click = baseline.iloc[1,1]\n",
    "n_enroll = baseline.iloc[2,1]\n",
    "p_gc = baseline.iloc[4,1]\n",
    "p_rt = baseline.iloc[5,1]\n",
    "p_nc = baseline.iloc[6,1]\n",
    "sample_size = 5000"
   ]
  },
  {
   "cell_type": "code",
   "execution_count": 14,
   "id": "c42f4742",
   "metadata": {},
   "outputs": [
    {
     "name": "stdout",
     "output_type": "stream",
     "text": [
      "STD of gross conversion probability:  0.0202\n",
      "STD of net conversion probability:  0.0156\n",
      "STD of retention probability:  0.0549\n"
     ]
    }
   ],
   "source": [
    "std_gc = np.sqrt(p_gc*(1-p_gc) / ((n_click/n)*sample_size))\n",
    "std_nc = np.sqrt(p_nc*(1-p_nc) / ((n_click/n)*sample_size))\n",
    "std_rt = np.sqrt(p_rt*(1-p_rt) / ((n_enroll/n)*sample_size))\n",
    "\n",
    "digits = 4\n",
    "print(\"STD of gross conversion probability: \", round(std_gc, digits))\n",
    "print(\"STD of net conversion probability: \", round(std_nc, digits))\n",
    "print(\"STD of retention probability: \", round(std_rt, digits))"
   ]
  },
  {
   "cell_type": "markdown",
   "id": "a04a8dbf",
   "metadata": {},
   "source": [
    "Since all of our evaluation metrics are probabilities, it's probably safe to calulate their std analytically. "
   ]
  },
  {
   "cell_type": "markdown",
   "id": "c9f0b6fd",
   "metadata": {},
   "source": [
    "### Sizing"
   ]
  },
  {
   "cell_type": "markdown",
   "id": "93b26243",
   "metadata": {},
   "source": [
    "#### Choosing number of samples given power"
   ]
  },
  {
   "cell_type": "code",
   "execution_count": 56,
   "id": "b4b92c9d",
   "metadata": {},
   "outputs": [],
   "source": [
    "from scipy.stats import norm\n",
    "def get_beta(N, alpha, dmin, s0):\n",
    "    std = s0 * np.sqrt(2/N)\n",
    "    z = norm.ppf(1-alpha/2)\n",
    "    beta = norm.cdf(z*std, dmin, std) - norm.cdf(-z*std, dmin, std)\n",
    "    return beta\n",
    "\n",
    "def test_size(alpha, beta, dmin, s0, N0=1):\n",
    "    \"\"\"\n",
    "    alpha:probability of rejecting the null when null is true\n",
    "    beta: probability of accepting the null when null is false\n",
    "    dmin: practical significance boundary\n",
    "    s0: standard deviation when N=1\n",
    "    N0: start searching size\n",
    "    \n",
    "    return: total number of samples required per group\n",
    "    This method is obviously too slow if the required size is very large. Need to use implemented inverse function to solve N faster.\n",
    "    \"\"\"\n",
    "    N = N0\n",
    "    while get_beta(N, alpha, dmin, s0) >beta:\n",
    "        N += 1\n",
    "    return N"
   ]
  },
  {
   "cell_type": "code",
   "execution_count": 61,
   "id": "39edc84b",
   "metadata": {},
   "outputs": [
    {
     "name": "stdout",
     "output_type": "stream",
     "text": [
      "Total number of pageviews needed:  6322181\n"
     ]
    }
   ],
   "source": [
    "# we impose an overall alpha = 0.05 by using the Bonferroni correction\n",
    "alpha = 0.05/3\n",
    "# we require beta = 0.2 for each metric\n",
    "# the result of each metric needs to be converted to the total number of cookies to be collected\n",
    "N_gc = test_size(alpha, 0.2, 0.01, np.sqrt(p_gc*(1-p_gc)), N0=n_click) / (n_click/n)\n",
    "N_nc = test_size(alpha, 0.2, 0.0075, np.sqrt(p_nc*(1-p_nc)), N0=n_click) / (n_click/n)\n",
    "N_rt = test_size(alpha, 0.2, 0.01, np.sqrt(p_rt*(1-p_rt)), N0=n_enroll) / (n_enroll/n)\n",
    "# the max number gives the total number of pageviews required for this experiemtn\n",
    "tot_cookies = int(max(N_gc, N_nc, N_rt)*2)\n",
    "print(\"Total number of pageviews needed: \", tot_cookies)"
   ]
  },
  {
   "cell_type": "code",
   "execution_count": 60,
   "id": "1b28116a",
   "metadata": {},
   "outputs": [],
   "source": [
    "def analytical_size(alpha, beta, dmin, s0):\n",
    "    nomin = 2*(norm.ppf(1-alpha/2)+norm.ppf(1-beta))**2\n",
    "    denom = (dmin/s0)**2\n",
    "    return nomin/denom # per group"
   ]
  },
  {
   "cell_type": "markdown",
   "id": "258a3e27",
   "metadata": {},
   "source": [
    "Since the change most likey will affect the number of enrollments and thus the amount of payments, there is definite business\n",
    "risk so that we shouldn't run the experiement on all traffic. We also do not want the experiment to run for too long, but we need at least 14 days to measure net conversion and retention rate. So maybe max duration equals to 30days is constraint."
   ]
  },
  {
   "cell_type": "code",
   "execution_count": 66,
   "id": "a9e562bb",
   "metadata": {},
   "outputs": [
    {
     "name": "stdout",
     "output_type": "stream",
     "text": [
      "Maximum number of total cookies can be collected in 30 days:  1200000.0\n"
     ]
    }
   ],
   "source": [
    "max_days = 30\n",
    "max_cookies = max_days * n\n",
    "print(\"Maximum number of total cookies can be collected in 30 days: \", max_cookies)"
   ]
  },
  {
   "cell_type": "code",
   "execution_count": 67,
   "id": "5bd2840d",
   "metadata": {},
   "outputs": [
    {
     "name": "stdout",
     "output_type": "stream",
     "text": [
      "856975.0 906075.0 6322181.818181817\n"
     ]
    }
   ],
   "source": [
    "# now if we look at the number of cookies required for each metric\n",
    "print(2*N_gc, 2*N_nc, 2*N_rt)"
   ]
  },
  {
   "cell_type": "markdown",
   "id": "abf67413",
   "metadata": {},
   "source": [
    "Even we run the experiment with 100% traffic for a month, the samples wouldn't be enough for testing the change of retention rate. So let's try relax imposing overall alpha = 0.05 and increasing the practical significance for retention. "
   ]
  },
  {
   "cell_type": "code",
   "execution_count": 74,
   "id": "78ec7d26",
   "metadata": {},
   "outputs": [
    {
     "name": "stdout",
     "output_type": "stream",
     "text": [
      "642475.0 382100.0 4739878.787878788\n"
     ]
    }
   ],
   "source": [
    "alpha = 0.05\n",
    "# we require beta = 0.2 for each metric\n",
    "# the result of each metric needs to be converted to the total number of cookies to be collected\n",
    "N_gc = test_size(alpha, 0.2, 0.01, np.sqrt(p_gc*(1-p_gc)), N0=n_click) / (n_click/n)\n",
    "N_nc = test_size(alpha, 0.2, 0.01, np.sqrt(p_nc*(1-p_nc)), N0=n_click) / (n_click/n)\n",
    "N_rt = test_size(alpha, 0.2, 0.01, np.sqrt(p_rt*(1-p_rt)), N0=n_enroll) / (n_enroll/n)\n",
    "print(2*N_gc,2*N_nc,2*N_rt)"
   ]
  },
  {
   "cell_type": "markdown",
   "id": "4006ce4b",
   "metadata": {},
   "source": [
    "It's still not enough for the rentation rate. One option is to remove this metric. Since rentation and net conversation rate are quite similar to each other, I think this is acceptable. "
   ]
  },
  {
   "cell_type": "code",
   "execution_count": 75,
   "id": "44c8db4b",
   "metadata": {},
   "outputs": [
    {
     "name": "stdout",
     "output_type": "stream",
     "text": [
      "0.5353958333333333\n"
     ]
    }
   ],
   "source": [
    "# if we remove retention metric, the percentage traffic we need to run the experiment is \n",
    "print(2*max(N_gc, N_nc) / max_cookies)"
   ]
  },
  {
   "cell_type": "markdown",
   "id": "451ac4fd",
   "metadata": {},
   "source": [
    "## Experiement Analysis"
   ]
  },
  {
   "cell_type": "markdown",
   "id": "0ba777aa",
   "metadata": {},
   "source": [
    "## Follow up experiment"
   ]
  },
  {
   "cell_type": "code",
   "execution_count": null,
   "id": "53548f21",
   "metadata": {},
   "outputs": [],
   "source": []
  }
 ],
 "metadata": {
  "kernelspec": {
   "display_name": "Python 3 (ipykernel)",
   "language": "python",
   "name": "python3"
  },
  "language_info": {
   "codemirror_mode": {
    "name": "ipython",
    "version": 3
   },
   "file_extension": ".py",
   "mimetype": "text/x-python",
   "name": "python",
   "nbconvert_exporter": "python",
   "pygments_lexer": "ipython3",
   "version": "3.11.4"
  }
 },
 "nbformat": 4,
 "nbformat_minor": 5
}
